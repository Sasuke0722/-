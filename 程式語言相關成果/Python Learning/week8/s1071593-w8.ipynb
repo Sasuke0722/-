{
 "cells": [
  {
   "cell_type": "code",
   "execution_count": 3,
   "metadata": {},
   "outputs": [
    {
     "name": "stdout",
     "output_type": "stream",
     "text": [
      "輸入分數75\n",
      "成績及格\n"
     ]
    }
   ],
   "source": [
    "# encoding=utf-8\n",
    "# Programmer: 黃駿瑜\n",
    "# Date: 2020/4/21\n",
    "# if-else Decision\n",
    "\n",
    "grade = int(input(\"輸入分數\"))\n",
    "\n",
    "if(grade >= 60):\n",
    "    print(\"成績及格\")\n",
    "else:\n",
    "    print(\"Fail\")"
   ]
  },
  {
   "cell_type": "code",
   "execution_count": 18,
   "metadata": {},
   "outputs": [
    {
     "name": "stdout",
     "output_type": "stream",
     "text": [
      "輸入身高 :175\n",
      "輸入體重 :61\n",
      "你的BMI值為 19.918367346938776\n",
      "正常\n"
     ]
    }
   ],
   "source": [
    "# encoding=utf-8\n",
    "# Programmer: 黃駿瑜\n",
    "# Date: 2020/4/21\n",
    "# BMI\n",
    "\n",
    "\n",
    "height = float(input(\"輸入身高 :\"))\n",
    "weight = float(input(\"輸入體重 :\"))\n",
    "\n",
    "h = height/100\n",
    "BMI = weight/(h*h)\n",
    "\n",
    "print(\"你的BMI值為\",BMI)\n",
    "\n",
    "if(BMI <= 18.5):\n",
    "    print(\"過瘦\")\n",
    "elif(BMI > 18.5 and BMI <= 24.0):\n",
    "        print(\"正常\")\n",
    "elif(BMI > 24.0 and BMI <= 27.0):\n",
    "        print(\"過重\")\n",
    "elif(BMI > 27.0 and BMI <= 30.0):\n",
    "        print(\"輕度肥胖\")       \n",
    "elif(BMI > 30.0 and BMI <= 35.0):\n",
    "        print(\"中度肥胖\")\n",
    "else:\n",
    "    print(\"重度肥胖\")\n"
   ]
  },
  {
   "cell_type": "code",
   "execution_count": null,
   "metadata": {},
   "outputs": [],
   "source": []
  }
 ],
 "metadata": {
  "kernelspec": {
   "display_name": "Python 3",
   "language": "python",
   "name": "python3"
  },
  "language_info": {
   "codemirror_mode": {
    "name": "ipython",
    "version": 3
   },
   "file_extension": ".py",
   "mimetype": "text/x-python",
   "name": "python",
   "nbconvert_exporter": "python",
   "pygments_lexer": "ipython3",
   "version": "3.7.4"
  }
 },
 "nbformat": 4,
 "nbformat_minor": 2
}
