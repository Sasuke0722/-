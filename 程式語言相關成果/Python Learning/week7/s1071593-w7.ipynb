{
 "cells": [
  {
   "cell_type": "code",
   "execution_count": 2,
   "metadata": {},
   "outputs": [
    {
     "name": "stdout",
     "output_type": "stream",
     "text": [
      "真: True\n",
      "假: False\n",
      "<class 'bool'>\n"
     ]
    }
   ],
   "source": [
    "# encoding=utf-8\n",
    "# programmer: 黃駿瑜\n",
    "# Date: 2020/04/14\n",
    "# Python 的布林型態\n",
    "\n",
    "myBool1 = True;\n",
    "myBool2 = False;\n",
    "\n",
    "print(\"真:\",myBool1)    # 真\n",
    "print(\"假:\",myBool2)    # 假\n",
    "print(type(myBool1))    # Type為 Boolean"
   ]
  },
  {
   "cell_type": "code",
   "execution_count": 13,
   "metadata": {},
   "outputs": [
    {
     "name": "stdout",
     "output_type": "stream",
     "text": [
      "x + 0 = True\n",
      "x + 1 = True\n",
      "y + 0 = 0\n",
      "y + 1 = 1\n"
     ]
    }
   ],
   "source": [
    "# encoding=utf-8\n",
    "# programmer: 黃駿瑜\n",
    "# Date: 2020/04/14\n",
    "# Boolean Algebra 驗證\n",
    "\n",
    "# 驗證\n",
    "# X + 0 = X\n",
    "# X + 1 = 1\n",
    "\n",
    "x = True\n",
    "print(\"x + 0 =\",x or 0)    # True\n",
    "print(\"x + 1 =\",x or 1)    # True\n",
    "\n",
    "y = False\n",
    "print(\"y + 0 =\",y or 0)    # False\n",
    "print(\"y + 1 =\",y or 1)    # True"
   ]
  },
  {
   "cell_type": "code",
   "execution_count": 15,
   "metadata": {},
   "outputs": [
    {
     "name": "stdout",
     "output_type": "stream",
     "text": [
      "2 > 3 ? False\n",
      "2 < 3 ? True\n",
      "2 == 3 ? False\n",
      "2 != 3 ? True\n",
      "2 >= 3 ? False\n",
      "2 <= 3 ? True\n"
     ]
    }
   ],
   "source": [
    "# encoding=utf-8\n",
    "# programmer: 黃駿瑜\n",
    "# Date: 2020/04/14\n",
    "# 數值比較大小\n",
    "\n",
    "x = 2\n",
    "y = 3\n",
    "\n",
    "# 數值比較\n",
    "print(\"2 > 3 ?\",x > y)    # 大於\n",
    "print(\"2 < 3 ?\",x < y)    # 小於\n",
    "print(\"2 == 3 ?\",x == y)    # 等於\n",
    "print(\"2 != 3 ?\",x != y)    # 不等於\n",
    "print(\"2 >= 3 ?\",x >= y)    # 大於等於\n",
    "print(\"2 <= 3 ?\",x <= y)    # 小於等於"
   ]
  },
  {
   "cell_type": "code",
   "execution_count": 16,
   "metadata": {},
   "outputs": [
    {
     "name": "stdout",
     "output_type": "stream",
     "text": [
      "A > Z ? False\n",
      "A < Z ? True\n",
      "A == Z ? False\n",
      "A != Z ? True\n",
      "A >= Z ? False\n",
      "A <= Z ? True\n"
     ]
    }
   ],
   "source": [
    "# encoding=utf-8\n",
    "# programmer: 黃駿瑜\n",
    "# Date: 2020/04/14\n",
    "# 字串比較大小\n",
    "\n",
    "str1 = \"A\"\n",
    "str2 = \"Z\"\n",
    "\n",
    "# 字串比較\n",
    "print(\"A > Z ?\",str1 > str2)    # 大於\n",
    "print(\"A < Z ?\",str1 < str2)    # 小於\n",
    "print(\"A == Z ?\",str1 == str2)    # 等於\n",
    "print(\"A != Z ?\",str1 != str2)    # 不等於\n",
    "print(\"A >= Z ?\",str1 >= str2)    # 大於等於\n",
    "print(\"A <= Z ?\",str1 <= str2)    # 小於等於\n"
   ]
  },
  {
   "cell_type": "code",
   "execution_count": 17,
   "metadata": {},
   "outputs": [
    {
     "name": "stdout",
     "output_type": "stream",
     "text": [
      "False\n",
      "True\n",
      "x and y? False\n",
      "x or y? True\n"
     ]
    }
   ],
   "source": [
    "# encoding=utf-8\n",
    "# programmer: 黃駿瑜\n",
    "# Date: 2020/04/14\n",
    "# 邏輯運算子 bool() 真假判斷函式\n",
    "\n",
    "x = True\n",
    "y = False\n",
    "\n",
    "print(not x)    # not True --> False\n",
    "print(not y)    # not False --> True\n",
    "print(\"x and y?\",x and y)    # and --> False\n",
    "print(\"x or y?\",x or y)    # or  --> True\n"
   ]
  },
  {
   "cell_type": "code",
   "execution_count": 18,
   "metadata": {},
   "outputs": [
    {
     "name": "stdout",
     "output_type": "stream",
     "text": [
      "假: False\n",
      "零 0: False\n",
      "空字串 : False\n",
      "空串列 []: False\n",
      "空元組 (): False\n",
      "空集合 {}: False\n",
      "None: False\n"
     ]
    }
   ],
   "source": [
    "# encoding=utf-8\n",
    "# programmer: 黃駿瑜\n",
    "# Date: 2020/04/14\n",
    "# bool() 真假判斷函式\n",
    "\n",
    "print(\"假:\",bool(False)) \n",
    "print(\"零 0:\",bool(0)) \n",
    "print(\"空字串 \"\":\",bool(\"\")) \n",
    "print(\"空串列 []:\",bool([])) \n",
    "print(\"空元組 ():\",bool(())) \n",
    "print(\"空集合 {}:\",bool({})) \n",
    "print(\"None:\",bool()) "
   ]
  },
  {
   "cell_type": "code",
   "execution_count": null,
   "metadata": {},
   "outputs": [],
   "source": []
  }
 ],
 "metadata": {
  "kernelspec": {
   "display_name": "Python 3",
   "language": "python",
   "name": "python3"
  },
  "language_info": {
   "codemirror_mode": {
    "name": "ipython",
    "version": 3
   },
   "file_extension": ".py",
   "mimetype": "text/x-python",
   "name": "python",
   "nbconvert_exporter": "python",
   "pygments_lexer": "ipython3",
   "version": "3.7.4"
  }
 },
 "nbformat": 4,
 "nbformat_minor": 2
}
