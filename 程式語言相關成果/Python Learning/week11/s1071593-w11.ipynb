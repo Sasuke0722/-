{
 "cells": [
  {
   "cell_type": "code",
   "execution_count": 4,
   "metadata": {},
   "outputs": [
    {
     "name": "stdout",
     "output_type": "stream",
     "text": [
      "[10, 20, 30, 40, 50]\n",
      "[10.0, 20.0, 30.0, 40.5, 50.6]\n",
      "['黃', ' ', '駿', ' ', '瑜']\n",
      "[True, False, 'ABC']\n"
     ]
    }
   ],
   "source": [
    "# encoding=utf8\n",
    "# Programmer: 黃駿瑜\n",
    "# Date: 2020/5/12\n",
    "# list 串列\n",
    "\n",
    "# 一連串資料可用 list 來儲存\n",
    "list1 = [10, 20, 30, 40, 50]\n",
    "list2 = [10.0, 20.0, 30.0, 40.5, 50.6]\n",
    "list3 = [\"黃\", \" \", \"駿\", \" \", \"瑜\"]\n",
    "list4 = [True,False,\"ABC\"]\n",
    "\n",
    "print(list1)\n",
    "print(list2)\n",
    "print(list3)\n",
    "print(list4)"
   ]
  },
  {
   "cell_type": "code",
   "execution_count": 8,
   "metadata": {},
   "outputs": [
    {
     "name": "stdout",
     "output_type": "stream",
     "text": [
      "[10, 20.0, True, 'A', 'B']\n"
     ]
    }
   ],
   "source": [
    "# encoding=utf8\n",
    "# Programmer: 黃駿瑜\n",
    "# Date: 2020/5/12\n",
    "# list 串列\n",
    "\n",
    "list1 = [10, 20.0 ,True]\n",
    "list2 = [\"A\",\"B\"]\n",
    "list3 = list1 + list2    # 串列相接\n",
    "\n",
    "print(list3)"
   ]
  },
  {
   "cell_type": "code",
   "execution_count": 10,
   "metadata": {},
   "outputs": [
    {
     "name": "stdout",
     "output_type": "stream",
     "text": [
      "10\n",
      "20\n",
      "30\n",
      "40\n",
      "A\n",
      "B\n",
      "C\n",
      "D\n",
      "15.0\n",
      "True\n",
      "第  0  個元素:  10\n",
      "第  1  個元素:  20\n",
      "第  2  個元素:  30\n",
      "第  3  個元素:  40\n",
      "第  4  個元素:  A\n",
      "第  5  個元素:  B\n",
      "第  6  個元素:  C\n",
      "第  7  個元素:  D\n",
      "第  8  個元素:  15.0\n",
      "第  9  個元素:  True\n",
      "第  -1  個元素:  True\n",
      "第  -2  個元素:  15.0\n",
      "第  -3  個元素:  D\n",
      "第  -4  個元素:  C\n",
      "第  -5  個元素:  B\n",
      "第  -6  個元素:  A\n",
      "第  -7  個元素:  40\n",
      "第  -8  個元素:  30\n",
      "第  -9  個元素:  20\n",
      "第  -10  個元素:  10\n"
     ]
    }
   ],
   "source": [
    "# encoding=utf8\n",
    "# Programmer: 黃駿瑜\n",
    "# Date: 2020/5/12\n",
    "# list 串列\n",
    "\n",
    "list1 = [10, 20, 30, 40, \"A\", \"B\", \"C\",\"D\",15.0,True]    \n",
    "\n",
    "for x in list1:    # 依序存取串列中的昧個元素\n",
    "    print(x)\n",
    "    \n",
    "for i in range(10):    # 由前至後依足標存取串列中的每一個元素\n",
    "    print(\"第 \",i,\" 個元素: \",list1[i])    \n",
    "    \n",
    "for i in range(1,11):    # 由後至前依足標存取串列中的每一個元素\n",
    "    print(\"第 \",-i,\" 個元素: \",list1[-i])"
   ]
  },
  {
   "cell_type": "code",
   "execution_count": 15,
   "metadata": {},
   "outputs": [
    {
     "name": "stdout",
     "output_type": "stream",
     "text": [
      "串列1 : 3\n",
      "串列2 : 4\n",
      "[10, 20, 30, 'A', 'B', 'C', 'D']\n",
      "[10, 20, 30, 10, 20, 30, 10, 20, 30, 10, 20, 30, 10, 20, 30]\n",
      "True\n"
     ]
    }
   ],
   "source": [
    "# encoding=utf8\n",
    "# Programmer: 黃駿瑜\n",
    "# Date: 2020/5/12\n",
    "# list 串列\n",
    "\n",
    "# 一連串資料可用 list 來儲存\n",
    "list1 = [10, 20, 30]\n",
    "list2 = [\"A\",\"B\",\"C\",\"D\"]\n",
    "\n",
    "# 打印兩串列的長度\n",
    "print(\"串列1 :\",len(list1))\n",
    "print(\"串列2 :\",len(list2))\n",
    "\n",
    "# 連接兩串列\n",
    "print(list1 + list2)\n",
    "\n",
    "# 串列重覆\n",
    "print(list1 *5)\n",
    "\n",
    "# 串列成員檢查\n",
    "print(3 in [1, 2, 3])\n"
   ]
  },
  {
   "cell_type": "code",
   "execution_count": 26,
   "metadata": {},
   "outputs": [
    {
     "name": "stdout",
     "output_type": "stream",
     "text": [
      "['天', '氣', '真', '好']\n",
      "天 在串列中出現  1 次\n",
      "['天', '氣', '真', '好', '假', '的!']\n",
      "2\n",
      "['天', '氣', '真', '不', '好', '假', '的!']\n"
     ]
    }
   ],
   "source": [
    "# encoding=utf8\n",
    "# Programmer: 黃駿瑜\n",
    "# Date: 2020/5/12\n",
    "# list 函數\n",
    "\n",
    "# list.append() 將新元素加入串列末端\n",
    "list1 = [\"天\", \"氣\", \"真\"]\n",
    "list1.append(\"好\")\n",
    "print(list1)\n",
    "\n",
    "# list.count() 計算元素在串列出現的次數\n",
    "print(\"天 在串列中出現 \",list1.count(\"天\"),\"次\")\n",
    "\n",
    "# list.extend() 連接一串列至串列末端\n",
    "list2 = [\"假\", \"的!\"]\n",
    "list1.extend(list2)\n",
    "print(list1)\n",
    "\n",
    "# list.index() 查詢元素在串列中的位置(足標)\n",
    "print(list1.index(\"真\"))\n",
    "\n",
    "# list.insert() 將元素插入至串列中的指定位置\n",
    "list1.insert(3,\"不\")\n",
    "print(list1)"
   ]
  },
  {
   "cell_type": "code",
   "execution_count": 33,
   "metadata": {},
   "outputs": [
    {
     "name": "stdout",
     "output_type": "stream",
     "text": [
      "C\n",
      "['AA', 'B']\n",
      "['B']\n",
      "[50, 72, 65, 80, 30]\n",
      "[30, 50, 65, 72, 80]\n"
     ]
    }
   ],
   "source": [
    "# encoding=utf8\n",
    "# Programmer: 黃駿瑜\n",
    "# Date: 2020/5/12\n",
    "# list 函數\n",
    "\n",
    "# list.pop() 由串列末端 pop()出一個元素\n",
    "list1 = [\"AA\", \"B\", \"C\"]\n",
    "print(list1.pop())\n",
    "print(list1)\n",
    "\n",
    "# list.remove() 從串列中移除元素\n",
    "list1.remove(\"AA\")\n",
    "print(list1)\n",
    "\n",
    "# list.reverse() 顛倒串列中的元素順序\n",
    "list2 = [30, 80 , 65 , 72, 50]\n",
    "list2.reverse()\n",
    "print(list2)\n",
    "\n",
    "# list.sort() 依照元素大小排列串列中的元素次序\n",
    "list2.sort()\n",
    "print(list2)"
   ]
  },
  {
   "cell_type": "code",
   "execution_count": 44,
   "metadata": {},
   "outputs": [
    {
     "name": "stdout",
     "output_type": "stream",
     "text": [
      "w\n",
      "5\n",
      "w old\n",
      "[5, 7]\n",
      "you?\n",
      "[7, 9]\n",
      "ow old ar\n",
      "[1, 5]\n"
     ]
    }
   ],
   "source": [
    "# encoding=utf8\n",
    "# Programmer: 黃駿瑜\n",
    "# Date: 2020/5/12\n",
    "# Python 串列(list) 切片(Slice)\n",
    "\n",
    "str1 = \"How old are you?\"\n",
    "list1 = [1, 3, 5, 7, 9]\n",
    "\n",
    "# 直接從串列、字串中 切出元素\n",
    "print(str1[2])\n",
    "print(list1[2])\n",
    "\n",
    "# 切出一段範圍的元素\n",
    "print(str1[2:7])\n",
    "print(list1[2:4])\n",
    "\n",
    "# 從尾端進行切片\n",
    "print(str1[-4:])\n",
    "print(list1[-2:])\n",
    "\n",
    "# str[start_index: end_index: step]\n",
    "print(str1[1:10:1])\n",
    "print(list1[0:4:2])"
   ]
  },
  {
   "cell_type": "code",
   "execution_count": null,
   "metadata": {},
   "outputs": [],
   "source": []
  }
 ],
 "metadata": {
  "kernelspec": {
   "display_name": "Python 3",
   "language": "python",
   "name": "python3"
  },
  "language_info": {
   "codemirror_mode": {
    "name": "ipython",
    "version": 3
   },
   "file_extension": ".py",
   "mimetype": "text/x-python",
   "name": "python",
   "nbconvert_exporter": "python",
   "pygments_lexer": "ipython3",
   "version": "3.7.4"
  }
 },
 "nbformat": 4,
 "nbformat_minor": 2
}
