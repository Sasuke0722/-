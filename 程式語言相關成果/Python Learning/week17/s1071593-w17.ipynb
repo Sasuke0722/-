{
 "cells": [
  {
   "cell_type": "code",
   "execution_count": 4,
   "metadata": {},
   "outputs": [
    {
     "name": "stdout",
     "output_type": "stream",
     "text": [
      "October\n"
     ]
    }
   ],
   "source": [
    "# encoding=utf-8\n",
    "# Programmer: 黃駿瑜\n",
    "# Date: 2020/6/23\n",
    "# Python 的字典(Dict)資料結構\n",
    "\n",
    "# 宣告 month 字典， 十二個月份的對照表\n",
    "month = {\n",
    "    '一月':'January',\n",
    "    '二月':'February',\n",
    "    '三月':'March',\n",
    "    '四月':'April',\n",
    "    '五月':'May',\n",
    "    '六月':'June',\n",
    "    '七月':'July',\n",
    "    '八月':'August',\n",
    "    '九月':'Septemper',\n",
    "    '十月':'October',\n",
    "    '十一月':'November',\n",
    "    '十二月':'December'}\n",
    "\n",
    "# 根據月份中文查詢英文\n",
    "print(month['十月'])"
   ]
  },
  {
   "cell_type": "code",
   "execution_count": 12,
   "metadata": {},
   "outputs": [
    {
     "name": "stdout",
     "output_type": "stream",
     "text": [
      "{2, 4, 6, 8, 10}\n",
      "{0, 1, 2, 3, 4, 5, 6, 7}\n"
     ]
    }
   ],
   "source": [
    "# encoding=utf-8\n",
    "# Programmer: 黃駿瑜\n",
    "# Date: 2020/6/23\n",
    "# Python 的集合(Set)資料結構\n",
    "\n",
    "# 宣告 set1 集合\n",
    "set1 = {2, 4, 6, 8, 10}\n",
    "print(set1)\n",
    "\n",
    "# 宣告 set2 集合\n",
    "set2 = set(range(8))\n",
    "print(set2)"
   ]
  },
  {
   "cell_type": "code",
   "execution_count": 13,
   "metadata": {},
   "outputs": [
    {
     "name": "stdout",
     "output_type": "stream",
     "text": [
      "{1, 2, 4, 6, 7, 8, 10}\n",
      "{2, 10, 6}\n",
      "{8, 4}\n"
     ]
    }
   ],
   "source": [
    "# encoding=utf-8\n",
    "# Programmer: 黃駿瑜\n",
    "# Date: 2020/6/23\n",
    "# Python 的集合(Set)資料結構\n",
    "\n",
    "# 宣告 set1 集合 set2 集合\n",
    "set1 = {2, 4, 6, 8, 10}\n",
    "set2 = {1, 2, 6, 7, 10}\n",
    "\n",
    "# 聯集(union)、 交集(intersection)、 差集(difference)\n",
    "print(set1.union(set2))\n",
    "print(set1.intersection(set2))\n",
    "print(set1.difference(set2))"
   ]
  },
  {
   "cell_type": "code",
   "execution_count": 14,
   "metadata": {},
   "outputs": [
    {
     "name": "stdout",
     "output_type": "stream",
     "text": [
      "5\n",
      "30\n",
      "10\n",
      "2\n"
     ]
    }
   ],
   "source": [
    "# encoding=utf-8\n",
    "# Programmer: 黃駿瑜\n",
    "# Date: 2020/6/23\n",
    "# Python 的集合(Set)資料結構\n",
    "\n",
    "# 宣告 set1 集合\n",
    "set1 = {2, 4, 6, 8, 10}\n",
    "\n",
    "# 長度, 總和, 最大值,最小值\n",
    "print(len(set1))\n",
    "print(sum(set1))\n",
    "print(max(set1))\n",
    "print(min(set1))"
   ]
  },
  {
   "cell_type": "code",
   "execution_count": 15,
   "metadata": {},
   "outputs": [
    {
     "name": "stdout",
     "output_type": "stream",
     "text": [
      "True\n",
      "True\n",
      "False\n",
      "True\n"
     ]
    }
   ],
   "source": [
    "# encoding=utf-8\n",
    "# Programmer: 黃駿瑜\n",
    "# Date: 2020/6/23\n",
    "# Python 的集合(Set)資料結構\n",
    "\n",
    "# 宣告 set1 集合\n",
    "set1 = {2, 4, 6, 8, 10, 'a'}\n",
    "\n",
    "# 成員檢查\n",
    "print(2 in set1)\n",
    "print('a' in set1)\n",
    "print(4 not in set1)\n",
    "print('z' not in set1)"
   ]
  },
  {
   "cell_type": "code",
   "execution_count": 16,
   "metadata": {},
   "outputs": [
    {
     "name": "stdout",
     "output_type": "stream",
     "text": [
      "(2, 4, 6, 8, 10)\n",
      "(0, 1, 2, 3, 4)\n"
     ]
    }
   ],
   "source": [
    "# encoding=utf-8\n",
    "# Programmer: 黃駿瑜\n",
    "# Date: 2020/6/23\n",
    "# Python 的元组(tuple)資料結構\n",
    "\n",
    "# 宣告 tuple1 元组\n",
    "tuple1 = (2, 4, 6, 8, 10)\n",
    "print(tuple1)\n",
    "\n",
    "# 宣告 tuple2 元组\n",
    "tuple2 = tuple(range(5))\n",
    "print(tuple2)"
   ]
  },
  {
   "cell_type": "code",
   "execution_count": 21,
   "metadata": {},
   "outputs": [
    {
     "ename": "AttributeError",
     "evalue": "'tuple' object has no attribute 'union'",
     "output_type": "error",
     "traceback": [
      "\u001b[1;31m---------------------------------------------------------------------------\u001b[0m",
      "\u001b[1;31mAttributeError\u001b[0m                            Traceback (most recent call last)",
      "\u001b[1;32m<ipython-input-21-098975e7bf4d>\u001b[0m in \u001b[0;36m<module>\u001b[1;34m\u001b[0m\n\u001b[0;32m      9\u001b[0m \u001b[1;33m\u001b[0m\u001b[0m\n\u001b[0;32m     10\u001b[0m \u001b[1;31m# 聯集(union)、 交集(intersection)、 差集(difference)\u001b[0m\u001b[1;33m\u001b[0m\u001b[1;33m\u001b[0m\u001b[1;33m\u001b[0m\u001b[0m\n\u001b[1;32m---> 11\u001b[1;33m \u001b[0mprint\u001b[0m\u001b[1;33m(\u001b[0m\u001b[0mtuple1\u001b[0m\u001b[1;33m.\u001b[0m\u001b[0munion\u001b[0m\u001b[1;33m(\u001b[0m\u001b[0mtuple2\u001b[0m\u001b[1;33m)\u001b[0m\u001b[1;33m)\u001b[0m\u001b[1;33m\u001b[0m\u001b[1;33m\u001b[0m\u001b[0m\n\u001b[0m\u001b[0;32m     12\u001b[0m \u001b[0mprint\u001b[0m\u001b[1;33m(\u001b[0m\u001b[0mtuple1\u001b[0m\u001b[1;33m.\u001b[0m\u001b[0mintersection\u001b[0m\u001b[1;33m(\u001b[0m\u001b[0mtuple2\u001b[0m\u001b[1;33m)\u001b[0m\u001b[1;33m)\u001b[0m\u001b[1;33m\u001b[0m\u001b[1;33m\u001b[0m\u001b[0m\n\u001b[0;32m     13\u001b[0m \u001b[0mprint\u001b[0m\u001b[1;33m(\u001b[0m\u001b[0mtuple1\u001b[0m\u001b[1;33m.\u001b[0m\u001b[0mdifference\u001b[0m\u001b[1;33m(\u001b[0m\u001b[0mtuple2\u001b[0m\u001b[1;33m)\u001b[0m\u001b[1;33m)\u001b[0m\u001b[1;33m\u001b[0m\u001b[1;33m\u001b[0m\u001b[0m\n",
      "\u001b[1;31mAttributeError\u001b[0m: 'tuple' object has no attribute 'union'"
     ]
    }
   ],
   "source": [
    "# encoding=utf-8\n",
    "# Programmer: 黃駿瑜\n",
    "# Date: 2020/6/23\n",
    "# Python 的元组(tuple)資料結構\n",
    "\n",
    "# 宣告 tuple1 元组\n",
    "tuple1 = {2, 4, 6, 8, 10}\n",
    "tuple2 = {1, 2, 6, 7, 10}\n",
    "\n",
    "# 聯集(union)、 交集(intersection)、 差集(difference)\n",
    "print(tuple1.union(tuple2))\n",
    "print(tuple1.intersection(tuple2))\n",
    "print(tuple1.difference(tuple2))"
   ]
  },
  {
   "cell_type": "code",
   "execution_count": 20,
   "metadata": {},
   "outputs": [
    {
     "name": "stdout",
     "output_type": "stream",
     "text": [
      "5\n",
      "30\n",
      "10\n",
      "2\n"
     ]
    }
   ],
   "source": [
    "# encoding=utf-8\n",
    "# Programmer: 黃駿瑜\n",
    "# Date: 2020/6/23\n",
    "# Python 的元组(tuple)資料結構\n",
    "\n",
    "# 宣告 tuple1 元组\n",
    "tuple1 = (2, 4, 6, 8, 10)\n",
    "\n",
    "# 長度, 總和, 最大值,最小值\n",
    "print(len(tuple1))\n",
    "print(sum(tuple1))\n",
    "print(max(tuple1))\n",
    "print(min(tuple1))"
   ]
  },
  {
   "cell_type": "code",
   "execution_count": 22,
   "metadata": {},
   "outputs": [
    {
     "name": "stdout",
     "output_type": "stream",
     "text": [
      "True\n",
      "True\n",
      "False\n",
      "False\n"
     ]
    }
   ],
   "source": [
    "# encoding=utf-8\n",
    "# Programmer: 黃駿瑜\n",
    "# Date: 2020/6/23\n",
    "# Python 的元组(tuple)資料結構\n",
    "\n",
    "# 宣告 tuple1 元组\n",
    "tuple1 = (2, 4, 6, 8, 'a','z')\n",
    "\n",
    "# 成員檢查\n",
    "print(2 in tuple1)\n",
    "print('a' in tuple1)\n",
    "print(4 not in tuple1)\n",
    "print('z' not in tuple1)"
   ]
  },
  {
   "cell_type": "code",
   "execution_count": null,
   "metadata": {},
   "outputs": [],
   "source": []
  }
 ],
 "metadata": {
  "kernelspec": {
   "display_name": "Python 3",
   "language": "python",
   "name": "python3"
  },
  "language_info": {
   "codemirror_mode": {
    "name": "ipython",
    "version": 3
   },
   "file_extension": ".py",
   "mimetype": "text/x-python",
   "name": "python",
   "nbconvert_exporter": "python",
   "pygments_lexer": "ipython3",
   "version": "3.7.4"
  }
 },
 "nbformat": 4,
 "nbformat_minor": 2
}
