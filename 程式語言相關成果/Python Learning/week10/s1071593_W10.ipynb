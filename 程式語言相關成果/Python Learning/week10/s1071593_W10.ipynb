{
 "cells": [
  {
   "cell_type": "code",
   "execution_count": 1,
   "metadata": {},
   "outputs": [
    {
     "name": "stdout",
     "output_type": "stream",
     "text": [
      "2\n",
      "3\n",
      "5\n",
      "7\n",
      "11\n"
     ]
    }
   ],
   "source": [
    "# encoding=utf-8\n",
    "# programmer: 黃駿瑜\n",
    "# Date: 2020/5/5\n",
    "# 流程控制: for迴圈的基本語法\n",
    "\n",
    "data = [2,3,5,7,11]     # 5個元素的串列\n",
    "\n",
    "for x in data:  # 由 data 中每次取出一個元素\n",
    "    print(x)"
   ]
  },
  {
   "cell_type": "code",
   "execution_count": 2,
   "metadata": {},
   "outputs": [
    {
     "name": "stdout",
     "output_type": "stream",
     "text": [
      "紅\n",
      "橙\n",
      "黃\n",
      "綠\n",
      "藍\n",
      "靛\n",
      "紫\n"
     ]
    }
   ],
   "source": [
    "# encoding=utf-8\n",
    "# programmer: 黃駿瑜\n",
    "# Date: 2020/5/5\n",
    "# 流程控制: for迴圈的基本語法\n",
    "\n",
    "data = [\"紅\",\"橙\",\"黃\",\"綠\",\"藍\",\"靛\",\"紫\"]    # 7個元素(string) 串列\n",
    "\n",
    "for x in data:    # 由 data 中每次取出一個元素\n",
    "    print(x)"
   ]
  },
  {
   "cell_type": "code",
   "execution_count": 3,
   "metadata": {},
   "outputs": [
    {
     "name": "stdout",
     "output_type": "stream",
     "text": [
      "靜\n",
      "宜\n",
      "大\n",
      "學\n"
     ]
    }
   ],
   "source": [
    "# encoding=utf-8\n",
    "# programmer: 黃駿瑜\n",
    "# Date: 2020/5/5\n",
    "# 流程控制: for迴圈的基本語法\n",
    "\n",
    "data = \"靜宜大學\"    # 宣告一個字串 內容為靜宜大學\n",
    "\n",
    "for x in data:    # 由 data(string) 中每次取出一個字元\n",
    "    print(x)"
   ]
  },
  {
   "cell_type": "code",
   "execution_count": 4,
   "metadata": {},
   "outputs": [
    {
     "ename": "FileNotFoundError",
     "evalue": "[WinError 3] 系統找不到指定的路徑。: 'C:\\\\Python27'",
     "output_type": "error",
     "traceback": [
      "\u001b[1;31m---------------------------------------------------------------------------\u001b[0m",
      "\u001b[1;31mFileNotFoundError\u001b[0m                         Traceback (most recent call last)",
      "\u001b[1;32m<ipython-input-4-f90caf47e561>\u001b[0m in \u001b[0;36m<module>\u001b[1;34m\u001b[0m\n\u001b[0;32m     10\u001b[0m \u001b[1;33m\u001b[0m\u001b[0m\n\u001b[0;32m     11\u001b[0m \u001b[1;31m# 儲存指定資料夾的所有檔案\u001b[0m\u001b[1;33m\u001b[0m\u001b[1;33m\u001b[0m\u001b[1;33m\u001b[0m\u001b[0m\n\u001b[1;32m---> 12\u001b[1;33m \u001b[0mfiles\u001b[0m \u001b[1;33m=\u001b[0m \u001b[0mos\u001b[0m\u001b[1;33m.\u001b[0m\u001b[0mlistdir\u001b[0m\u001b[1;33m(\u001b[0m\u001b[0mfile_path\u001b[0m\u001b[1;33m)\u001b[0m\u001b[1;33m\u001b[0m\u001b[1;33m\u001b[0m\u001b[0m\n\u001b[0m\u001b[0;32m     13\u001b[0m \u001b[1;33m\u001b[0m\u001b[0m\n\u001b[0;32m     14\u001b[0m \u001b[1;32mfor\u001b[0m \u001b[0mfile\u001b[0m \u001b[1;32min\u001b[0m \u001b[0mfiles\u001b[0m\u001b[1;33m:\u001b[0m\u001b[1;33m\u001b[0m\u001b[1;33m\u001b[0m\u001b[0m\n",
      "\u001b[1;31mFileNotFoundError\u001b[0m: [WinError 3] 系統找不到指定的路徑。: 'C:\\\\Python27'"
     ]
    }
   ],
   "source": [
    "# encoding=utf-8\n",
    "# programmer: 黃駿瑜\n",
    "# Date: 2020/5/5\n",
    "# 流程控制: for迴圈，檔案與for迴圈\n",
    "\n",
    "import os\n",
    "\n",
    "# 指定資料夾路徑名稱\n",
    "file_path = \"C:\\Python27\"\n",
    "\n",
    "# 儲存指定資料夾的所有檔案\n",
    "files = os.listdir(file_path)\n",
    "\n",
    "for file in files:\n",
    "    print(file)"
   ]
  },
  {
   "cell_type": "code",
   "execution_count": 12,
   "metadata": {},
   "outputs": [
    {
     "name": "stdout",
     "output_type": "stream",
     "text": [
      "0\n",
      "1\n",
      "1\n",
      "2\n",
      "3\n",
      "5\n",
      "8\n",
      "13\n",
      "21\n",
      "34\n"
     ]
    }
   ],
   "source": [
    "# encoding=utf-8\n",
    "# programmer: 黃駿瑜\n",
    "# Date: 2020/5/5\n",
    "# 流程控制: while迴圈，費氏數列\n",
    "\n",
    "# 宣告費氏數列起始值\n",
    "f1 = 0    \n",
    "f2 = 1\n",
    "\n",
    "# 打印出前兩個值\n",
    "print(f1)\n",
    "print(f2)\n",
    "i = 0\n",
    "\n",
    "while(i < 8):    #  \n",
    "    f3 = f1 + f2\n",
    "    print(f3)\n",
    "    \n",
    "    # 把 f2 的值給 f1，f3的值給 f2\n",
    "    f1 = f2\n",
    "    f2 = f3\n",
    "    \n",
    "    i = i+1    # 每次執行完畢 i+1\n",
    "    \n"
   ]
  },
  {
   "cell_type": "code",
   "execution_count": 14,
   "metadata": {},
   "outputs": [
    {
     "name": "stdout",
     "output_type": "stream",
     "text": [
      "1 * 1 = 1 1 * 2 = 2 1 * 3 = 3 1 * 4 = 4 1 * 5 = 5 1 * 6 = 6 1 * 7 = 7 1 * 8 = 8 1 * 9 = 9  \n",
      "2 * 1 = 2 2 * 2 = 4 2 * 3 = 6 2 * 4 = 8 2 * 5 = 10 2 * 6 = 12 2 * 7 = 14 2 * 8 = 16 2 * 9 = 18  \n",
      "3 * 1 = 3 3 * 2 = 6 3 * 3 = 9 3 * 4 = 12 3 * 5 = 15 3 * 6 = 18 3 * 7 = 21 3 * 8 = 24 3 * 9 = 27  \n",
      "4 * 1 = 4 4 * 2 = 8 4 * 3 = 12 4 * 4 = 16 4 * 5 = 20 4 * 6 = 24 4 * 7 = 28 4 * 8 = 32 4 * 9 = 36  \n",
      "5 * 1 = 5 5 * 2 = 10 5 * 3 = 15 5 * 4 = 20 5 * 5 = 25 5 * 6 = 30 5 * 7 = 35 5 * 8 = 40 5 * 9 = 45  \n",
      "6 * 1 = 6 6 * 2 = 12 6 * 3 = 18 6 * 4 = 24 6 * 5 = 30 6 * 6 = 36 6 * 7 = 42 6 * 8 = 48 6 * 9 = 54  \n",
      "7 * 1 = 7 7 * 2 = 14 7 * 3 = 21 7 * 4 = 28 7 * 5 = 35 7 * 6 = 42 7 * 7 = 49 7 * 8 = 56 7 * 9 = 63  \n",
      "8 * 1 = 8 8 * 2 = 16 8 * 3 = 24 8 * 4 = 32 8 * 5 = 40 8 * 6 = 48 8 * 7 = 56 8 * 8 = 64 8 * 9 = 72  \n",
      "9 * 1 = 9 9 * 2 = 18 9 * 3 = 27 9 * 4 = 36 9 * 5 = 45 9 * 6 = 54 9 * 7 = 63 9 * 8 = 72 9 * 9 = 81  \n"
     ]
    }
   ],
   "source": [
    "# encoding=utf-8\n",
    "# programmer: 黃駿瑜\n",
    "# Date: 2020/5/5\n",
    "# 流程控制: while迴圈，九九乘法\n",
    "\n",
    "for i in range(1,10):     # i 的範圍為 1~10\n",
    "    for j in range(1,10):    # j 的範圍為 1~10\n",
    "        s=  i*j\n",
    "        print ('%d * %d = %d ' %(i, j , s),end=\"\")\n",
    "    print(\" \")"
   ]
  },
  {
   "cell_type": "code",
   "execution_count": 12,
   "metadata": {},
   "outputs": [
    {
     "name": "stdout",
     "output_type": "stream",
     "text": [
      "輸入國文成績:87\n",
      "輸入國文成績:60\n",
      "輸入國文成績:22\n",
      "輸入國文成績:N\n",
      "全班國文總分為:  169\n",
      "平均國文成績為:  56.333333333333336\n"
     ]
    }
   ],
   "source": [
    "# encoding=utf-8\n",
    "# programmer: 黃駿瑜\n",
    "# Date: 2020/5/5\n",
    "# 流程控制: while迴圈，輸入全班國文成績\n",
    "\n",
    "total = 0;\n",
    "count = 0;\n",
    "\n",
    "while True:\n",
    "    grade = str(input(\"輸入國文成績:\"))\n",
    "    \n",
    "    \n",
    "    if grade=='N':    # 當輸入為 N時，程式結束 \n",
    "        break;\n",
    "    else:\n",
    "        g = int(grade)    # 將 grade 轉為int形式\n",
    "        total = total+g    # 計算總成績\n",
    "        count = count+1    # 統計人次\n",
    "\n",
    "print(\"全班國文總分為: \",total)\n",
    "print('平均國文成績為: ',total/count)    # 計算平均分數\n",
    "        \n"
   ]
  },
  {
   "cell_type": "code",
   "execution_count": null,
   "metadata": {},
   "outputs": [],
   "source": []
  }
 ],
 "metadata": {
  "kernelspec": {
   "display_name": "Python 3",
   "language": "python",
   "name": "python3"
  },
  "language_info": {
   "codemirror_mode": {
    "name": "ipython",
    "version": 3
   },
   "file_extension": ".py",
   "mimetype": "text/x-python",
   "name": "python",
   "nbconvert_exporter": "python",
   "pygments_lexer": "ipython3",
   "version": "3.7.4"
  }
 },
 "nbformat": 4,
 "nbformat_minor": 2
}
