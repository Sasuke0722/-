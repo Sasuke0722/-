{
 "cells": [
  {
   "cell_type": "code",
   "execution_count": 1,
   "metadata": {},
   "outputs": [
    {
     "name": "stdout",
     "output_type": "stream",
     "text": [
      "單引號測試\n",
      "雙引號測試\n"
     ]
    }
   ],
   "source": [
    "# encoding=utf-8\n",
    "# program Name = s1071593.ipynb\n",
    "# programmer: 410715936 黃駿瑜\n",
    "# Date: 2020/3/24\n",
    "# Python 字串型態: 單引號、雙引號，print()\n",
    "\n",
    "# Python 字串型態(str)\n",
    "string1 = '單引號測試'\n",
    "string2 = \"雙引號測試\"\n",
    "\n",
    "print(string1)\n",
    "print(string2)"
   ]
  },
  {
   "cell_type": "code",
   "execution_count": 4,
   "metadata": {},
   "outputs": [
    {
     "name": "stdout",
     "output_type": "stream",
     "text": [
      "\n",
      "阿吉仔\n",
      "\n",
      "命運的吉他\n",
      "\n",
      "淒涼的吉他聲　伴奏著哀愁的歌聲\n",
      "孤單的人影　唱出著無奈的心聲\n",
      "我比別人卡認真　我比別人卡打拚\n",
      "為什麼　為什麼　比別人卡歹命\n",
      "\n",
      "淒涼的吉他聲　愈彈是心愈痛\n",
      "啊~ ~ 啊~ ~\n",
      "命運命運的吉他聲\n",
      "\n"
     ]
    }
   ],
   "source": [
    "# encoding=utf-8\n",
    "# program Name = s1071593.ipynb\n",
    "# programmer: 410715936 黃駿瑜\n",
    "# Date: 2020/3/24\n",
    "\n",
    "# 三引號字串練習\n",
    "string3 = \"\"\"\n",
    "阿吉仔\n",
    "\n",
    "命運的吉他\n",
    "\n",
    "淒涼的吉他聲　伴奏著哀愁的歌聲\n",
    "孤單的人影　唱出著無奈的心聲\n",
    "我比別人卡認真　我比別人卡打拚\n",
    "為什麼　為什麼　比別人卡歹命\n",
    "\n",
    "淒涼的吉他聲　愈彈是心愈痛\n",
    "啊~ ~ 啊~ ~\n",
    "命運命運的吉他聲\n",
    "\"\"\"\n",
    "\n",
    "print(string3)"
   ]
  },
  {
   "cell_type": "code",
   "execution_count": 5,
   "metadata": {},
   "outputs": [
    {
     "name": "stdout",
     "output_type": "stream",
     "text": [
      "万\n",
      "严\n",
      "120\n",
      "0x5403\n",
      "0x98ef\n"
     ]
    }
   ],
   "source": [
    "# encoding=utf-8\n",
    "# program Name = s1071593.ipynb\n",
    "# programmer: 410715936 黃駿瑜\n",
    "# Date: 2020/3/24\n",
    "# Python Unicode字串函數: chr(int) 與ord(char)\n",
    "\n",
    "# chr(int) 回傳整數參數 int 所編碼的 ASCII 或Unicode 字元\n",
    "print(chr(0x4E07))\n",
    "print(chr(0x4E25))\n",
    "\n",
    "# ord(char) 回傳字元參數 char 的 ASCII 或Unicode編碼\n",
    "print(ord(\"x\"));\n",
    "print(hex(ord(\"吃\")))\n",
    "print(hex(ord(\"飯\")))\n"
   ]
  },
  {
   "cell_type": "code",
   "execution_count": 7,
   "metadata": {},
   "outputs": [
    {
     "name": "stdout",
     "output_type": "stream",
     "text": [
      "黃\n",
      "駿\n",
      "瑜\n",
      "0x9ec3\n",
      "0x99ff\n",
      "0x745c\n"
     ]
    }
   ],
   "source": [
    "# encoding=utf-8\n",
    "# program Name = s1071593.ipynb\n",
    "# programmer: 410715936 黃駿瑜\n",
    "# Date: 2020/3/24\n",
    "# Python Unicode字串函數: chr(int) 與ord(char)\n",
    "\n",
    "# 找出名字的Unicode編碼\n",
    "print(chr(0x9ec3))\n",
    "print(chr(0x99ff))\n",
    "print(chr(0x745c))\n",
    "\n",
    "print(hex(ord(\"黃\")))\n",
    "print(hex(ord(\"駿\")))\n",
    "print(hex(ord(\"瑜\")))\n"
   ]
  },
  {
   "cell_type": "code",
   "execution_count": 18,
   "metadata": {},
   "outputs": [
    {
     "name": "stdout",
     "output_type": "stream",
     "text": [
      "🀅 🀅 🀅 🀆 🀆 🀆 🀄 🀄 🀄 🀇 🀈 🀉 🀏 🀏\n",
      "大三元~~~~~~~\n"
     ]
    }
   ],
   "source": [
    "print(chr(0x1F005),chr(0x1F005),chr(0x1F005),chr(0x1F006),chr(0x1F006),chr(0x1F006),chr(0x1F004),chr(0x1F004),chr(0x1F004),\n",
    "     chr(0x1F007),chr(0x1F008),chr(0x1F009),chr(0x1F00F),chr(0x1F00F))\n",
    "\n",
    "print(\"大三元~~~~~~~\")"
   ]
  },
  {
   "cell_type": "code",
   "execution_count": 15,
   "metadata": {},
   "outputs": [
    {
     "name": "stdout",
     "output_type": "stream",
     "text": [
      "C:\\windows\\font\n",
      "11\t22\t33\n",
      "第一行\n",
      "第二行\n",
      "黃\n"
     ]
    }
   ],
   "source": [
    "# encoding=utf-8\n",
    "# program Name = s1071593.ipynb\n",
    "# programmer: 410715936 黃駿瑜\n",
    "# Date: 2020/3/24\n",
    "# Python 特殊字元\n",
    "\n",
    "print(\"C:\\\\windows\\\\font\")    # 倒斜線\n",
    "print(\"11\\t22\\t33\")    # \\t tab\n",
    "print(\"第一行\\n第二行\")    # 換行\n",
    "print(\"\\u9ec3\")    # /u9ec3 16bit Unicode 黃 "
   ]
  },
  {
   "cell_type": "code",
   "execution_count": 40,
   "metadata": {},
   "outputs": [
    {
     "name": "stdout",
     "output_type": "stream",
     "text": [
      "Python是好用的程式語言! 👍\n",
      "我的心情!!! 💤\n",
      "🔥\n",
      "心情 :thumbs_up:\n",
      "心情 :index_pointing_up:\n",
      "心情 :grinning_face_with_sweat:\n"
     ]
    }
   ],
   "source": [
    "# encoding=utf-8\n",
    "# program Name = s1071593.ipynb\n",
    "# programmer: 410715936 黃駿瑜\n",
    "# Date: 2020/3/24\n",
    "# Python emoji\n",
    "\n",
    "import emoji\n",
    "\n",
    "# emojize() print出表情\n",
    "print(emoji.emojize('Python是好用的程式語言! :thumbs_up:'))\n",
    "print(emoji.emojize('我的心情!!! :zzz:'))\n",
    "print(emoji.emojize(':fire:'))\n",
    "\n",
    "# demojize() 查詢表情符號名稱\n",
    "print(emoji.demojize(\"心情 👍\"))\n",
    "print(emoji.demojize(\"心情 ☝️\"))\n",
    "print(emoji.demojize(\"心情 😅\"))"
   ]
  },
  {
   "cell_type": "code",
   "execution_count": 44,
   "metadata": {},
   "outputs": [
    {
     "name": "stdout",
     "output_type": "stream",
     "text": [
      "輸入身高:\n",
      "170\n",
      "輸入體重:\n",
      "60\n",
      "身高 =  170.0 體重 =  60.0\n"
     ]
    }
   ],
   "source": [
    "# encoding=utf-8\n",
    "# program Name = s1071593.ipynb\n",
    "# programmer: 410715936 黃駿瑜\n",
    "# Date: 2020/3/24\n",
    "# Python 身高體重\n",
    "\n",
    "height = float(input(\"輸入身高:\\n\"))\n",
    "weight = float(input(\"輸入體重:\\n\"))\n",
    "\n",
    "print('身高 = ',height,'體重 = ',weight)"
   ]
  },
  {
   "cell_type": "code",
   "execution_count": null,
   "metadata": {},
   "outputs": [],
   "source": []
  }
 ],
 "metadata": {
  "kernelspec": {
   "display_name": "Python 3",
   "language": "python",
   "name": "python3"
  },
  "language_info": {
   "codemirror_mode": {
    "name": "ipython",
    "version": 3
   },
   "file_extension": ".py",
   "mimetype": "text/x-python",
   "name": "python",
   "nbconvert_exporter": "python",
   "pygments_lexer": "ipython3",
   "version": "3.7.4"
  }
 },
 "nbformat": 4,
 "nbformat_minor": 2
}
