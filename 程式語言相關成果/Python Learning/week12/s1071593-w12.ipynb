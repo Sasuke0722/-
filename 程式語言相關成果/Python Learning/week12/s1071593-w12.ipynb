{
 "cells": [
  {
   "cell_type": "code",
   "execution_count": 1,
   "metadata": {},
   "outputs": [
    {
     "name": "stdout",
     "output_type": "stream",
     "text": [
      "張量版內積運算結果: 125005678.94149594\n",
      "張量版內積運算執行時間:166638.503074646ms\n",
      "純量版內積運算結果: 125005678.94160321\n",
      "純量版內積運算執行時間:595186.5057945251ms\n"
     ]
    }
   ],
   "source": [
    "# Programmer: 黃駿瑜\n",
    "# Date: 2020/5/19\n",
    "# 線性代數: 張量版與純量版內積運算速度比較\n",
    "\n",
    "import numpy as np\n",
    "import time\n",
    "\n",
    "op_num = 500000000\n",
    "a = np.random.rand(op_num)     # 產生一億個亂數\n",
    "b = np.random.rand(op_num)     # 產生一億個亂數\n",
    "\n",
    "c = 0\n",
    "start = time.time()    # 運算開始時間\n",
    "c = np.dot(a,b)        # NumPy 張量版內積運算\n",
    "stop = time.time()     # 運算結束時間\n",
    "print(\"張量版內積運算結果:\", c)\n",
    "print(\"張量版內積運算執行時間:\" + str(1000*(stop-start)) + \"ms\")\n",
    "\n",
    "c = 0\n",
    "start = time.time()    # 運算開始時間\n",
    "for i in range(op_num):\n",
    "    c += a[i]*b[i]     # Python 純量版內積運算\n",
    "stop = time.time()     # 運算結束時間\n",
    "print(\"純量版內積運算結果:\", c)\n",
    "print(\"純量版內積運算執行時間:\" + str(1000*(stop-start)) + \"ms\")\n"
   ]
  },
  {
   "cell_type": "code",
   "execution_count": 2,
   "metadata": {},
   "outputs": [
    {
     "name": "stdout",
     "output_type": "stream",
     "text": [
      "純量:  123\n",
      "Python向量:  [1, 2, 3]\n",
      "NumPy向量:  [4 5 6]\n",
      "NumPy矩陣:\n",
      " [[5 7 6]\n",
      " [3 5 6]]\n",
      "NumPy張量:\n",
      " [[[1 2]\n",
      "  [3 4]]\n",
      "\n",
      " [[5 6]\n",
      "  [7 8]]]\n"
     ]
    }
   ],
   "source": [
    "# encoding=utf-8\n",
    "# Programmer: 黃駿瑜\n",
    "# Date: 2020/5/19\n",
    "# 線性代數: 純量, 向量, 矩陣, 張量\n",
    "\n",
    "# 使用 NumPy 套件\n",
    "import numpy as np\n",
    "\n",
    "s = 123                             # 建立純量 (scalar)\n",
    "v1 = [1, 2, 3]                      # 建立向量(vector)\n",
    "v2 = np.array([4, 5, 6])            # 用 NumPy 建立向量(vector)\n",
    "m1 = np.array([[5,7,6],             # 用 NumPy 建立矩陣(matrix)\n",
    "               [3,5,6]])                                      \n",
    "t1 = np.array([[[1,2],              # 用 NumPy 建立張量(tensor)\n",
    "                [3,4]],\n",
    "               [[5,6],\n",
    "                [7,8]]])    \n",
    "print(\"純量: \", s)\n",
    "print(\"Python向量: \", v1)\n",
    "print(\"NumPy向量: \", v2)\n",
    "print(\"NumPy矩陣:\\n\", m1)\n",
    "print(\"NumPy張量:\\n\", t1)\n"
   ]
  },
  {
   "cell_type": "code",
   "execution_count": 3,
   "metadata": {},
   "outputs": [
    {
     "name": "stdout",
     "output_type": "stream",
     "text": [
      "[[ 5  6]\n",
      " [ 7 12]]\n",
      "[[-1  2]\n",
      " [ 5  4]]\n",
      "[[ 6  8]\n",
      " [ 6 32]]\n",
      "[[0.66666667 2.        ]\n",
      " [6.         2.        ]]\n"
     ]
    }
   ],
   "source": [
    "# encoding=utf-8\n",
    "# Programmer: 黃駿瑜\n",
    "# Date: 2020/5/19\n",
    "# 線性代數: 矩陣加減乘除 (對應元素加減乘除)\n",
    "\n",
    "# 使用 NumPy 套件\n",
    "import numpy as np\n",
    "\n",
    "X = np.array([[2,4],[6,8]])\n",
    "Y = np.array([[3,2],[1,4]])\n",
    "\n",
    "\n",
    "print(np.add(X,Y))            # 矩陣加法 \n",
    "print(np.subtract(X,Y))       # 矩陣減法 \n",
    "print(np.multiply(X,Y))       # 矩陣乘法 \n",
    "print(np.divide(X,Y))         # 矩陣除法\n"
   ]
  },
  {
   "cell_type": "code",
   "execution_count": 5,
   "metadata": {},
   "outputs": [
    {
     "name": "stdout",
     "output_type": "stream",
     "text": [
      "原矩陣 A 為:\n",
      " [[3 7 6 5]\n",
      " [2 4 6 8]]\n",
      "矩陣 A 的轉置矩陣為:\n",
      " [[3 2]\n",
      " [7 4]\n",
      " [6 6]\n",
      " [5 8]]\n"
     ]
    }
   ],
   "source": [
    "# encoding=utf-8\n",
    "# Programmer: 黃駿瑜\n",
    "# Date: 2020/5/19\n",
    "# 線性代數: 轉置矩陣\n",
    "\n",
    "# 使用 NumPy 套件\n",
    "import numpy as np\n",
    "\n",
    "a = np.array([[3,7,6,5],             # 用 NumPy 建立矩陣(matrix)\n",
    "              [2,4,6,8]])        \n",
    "                              \n",
    "at = np.transpose(a)               #  np.transpose() -> 轉置矩陣\n",
    "\n",
    "print('原矩陣 A 為:\\n',a)\n",
    "print('矩陣 A 的轉置矩陣為:\\n',at)\n"
   ]
  },
  {
   "cell_type": "code",
   "execution_count": 10,
   "metadata": {},
   "outputs": [
    {
     "name": "stdout",
     "output_type": "stream",
     "text": [
      "[[ 4  5  6]\n",
      " [ 2  4  6]\n",
      " [ 1  3  5]\n",
      " [ 6  8 10]]\n",
      "[[ 4]\n",
      " [ 5]\n",
      " [ 6]\n",
      " [ 2]\n",
      " [ 4]\n",
      " [ 6]\n",
      " [ 1]\n",
      " [ 3]\n",
      " [ 5]\n",
      " [ 6]\n",
      " [ 8]\n",
      " [10]]\n"
     ]
    }
   ],
   "source": [
    "# encoding=utf-8\n",
    "# Programmer: 黃駿瑜\n",
    "# Date: 2020/5/19\n",
    "# 線性代數: 矩陣維度(形狀)改變\n",
    "\n",
    "# 使用 NumPy 套件\n",
    "import numpy as np\n",
    "\n",
    "X = np.array([[4,5,6],\n",
    "            [2,4,6],\n",
    "            [1,3,5],\n",
    "            [6,8,10]])\n",
    "\n",
    "print(X)                            # 一維向量\n",
    "\n",
    "\n",
    "print(np.reshape(X, (12,1)))        # 改成 12 x 1 矩陣\n"
   ]
  },
  {
   "cell_type": "code",
   "execution_count": 13,
   "metadata": {},
   "outputs": [
    {
     "name": "stdout",
     "output_type": "stream",
     "text": [
      "內積結果為:\n",
      " [[ 54 129  84]\n",
      " [ 42 108  66]\n",
      " [ 31  83  49]]\n"
     ]
    }
   ],
   "source": [
    "# encoding=utf-8\n",
    "# Programmer: 黃駿瑜\n",
    "# Date: 2020/5/19\n",
    "# 線性代數: 矩陣內積 inner product\n",
    "\n",
    "# 使用 NumPy 套件\n",
    "\n",
    "import numpy as np\n",
    "\n",
    "A = np.array([[4,5,6],\n",
    "            [2,4,6],\n",
    "            [1,3,5]])\n",
    "B = np.array([[3,7,5],\n",
    "            [6,7,8],\n",
    "            [2,11,4]])\n",
    "\n",
    "C = np.dot(A, B)              # 向量內積 第2種寫法\n",
    "print('內積結果為:\\n',C)\n"
   ]
  },
  {
   "cell_type": "code",
   "execution_count": null,
   "metadata": {},
   "outputs": [],
   "source": []
  }
 ],
 "metadata": {
  "kernelspec": {
   "display_name": "Python 3",
   "language": "python",
   "name": "python3"
  },
  "language_info": {
   "codemirror_mode": {
    "name": "ipython",
    "version": 3
   },
   "file_extension": ".py",
   "mimetype": "text/x-python",
   "name": "python",
   "nbconvert_exporter": "python",
   "pygments_lexer": "ipython3",
   "version": "3.7.4"
  }
 },
 "nbformat": 4,
 "nbformat_minor": 2
}
