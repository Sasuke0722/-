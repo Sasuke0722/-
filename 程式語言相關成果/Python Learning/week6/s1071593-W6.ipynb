{
 "cells": [
  {
   "cell_type": "code",
   "execution_count": 8,
   "metadata": {},
   "outputs": [
    {
     "name": "stdout",
     "output_type": "stream",
     "text": [
      "10,000,000\n",
      "25.00%\n",
      "+3.1416\n",
      "3.14e+00\n"
     ]
    }
   ],
   "source": [
    "# encoding=utf-8\n",
    "# Programmer: 黃駿瑜\n",
    "# Date: 2020/04/07\n",
    "# Python 的浮數型態: float 浮點數的格式化輸出\n",
    "\n",
    "import math    # math.pi 圓周率\n",
    "\n",
    "print(\"{:,}\".format(10000000))    # 逗號作為千分位分隔符號表示\n",
    "print(\"{:.2%}\".format(0.25))    # 以百分比表示 ==> 25%\n",
    "print(\"{:+.4f}\".format(math.pi))    # 帶正負符號、四位小數\n",
    "print(\"{:.2e}\".format(math.pi))    # 指數格式(ex. 3.14e+00 )"
   ]
  },
  {
   "cell_type": "code",
   "execution_count": 12,
   "metadata": {},
   "outputs": [
    {
     "name": "stdout",
     "output_type": "stream",
     "text": [
      "500\n",
      "120\n",
      "65536\n",
      "2.5\n",
      "3\n"
     ]
    }
   ],
   "source": [
    "# encoding=utf-8\n",
    "# Programmer: 黃駿瑜\n",
    "# Date: 2020/04/07\n",
    "# Python 算術運算子\n",
    "\n",
    "print(200 + 300)    # 加法運算子\n",
    "print(2*3*4*5)    # 乘法運算子(連乘)\n",
    "print(16** 4)    # 指數運算子\n",
    "print((2+3) / (10-8))    \n",
    "print(13 % 5)    # 餘數"
   ]
  },
  {
   "cell_type": "code",
   "execution_count": 20,
   "metadata": {},
   "outputs": [
    {
     "name": "stdout",
     "output_type": "stream",
     "text": [
      "200\n",
      "50\n",
      "10\n",
      "2\n",
      "7.38905609893065\n",
      "2.0\n",
      "3.0\n",
      "1.2246467991473532e-16\n",
      "1.0\n"
     ]
    }
   ],
   "source": [
    "# encoding=utf-8\n",
    "# Programmer: 黃駿瑜\n",
    "# Date: 2020/04/07\n",
    "# Python 內建數學函數\n",
    "\n",
    "import math    # 匯入math 數學函數模組\n",
    "from math import *    # 匯入math 模組所有函數\n",
    "\n",
    "print(abs(-200))    # 絕對值函數\n",
    "print(max(20, 10, 30, 50, 40))    # 最大值函數\n",
    "print(min(20, 10, 30, 50, 40))    # 最小值函數\n",
    "print(round((2 + 3) / (10 - 8)))    # 四捨五入函數\n",
    "print(exp(2))    # 指數函數\n",
    "print(log(exp(2)))    # 對數函數\n",
    "print(log10(1000))    # 對數函數(以10為基底)\n",
    "print(sin(math.pi))    # 三角函數 sin\n",
    "print(cos(2*math.pi))    # 三角函數 cos"
   ]
  },
  {
   "cell_type": "code",
   "execution_count": 22,
   "metadata": {},
   "outputs": [
    {
     "name": "stdout",
     "output_type": "stream",
     "text": [
      "輸入三角形兩邊長: \n",
      "邊長a = 3\n",
      "邊長b = 4\n",
      "5.0\n"
     ]
    }
   ],
   "source": [
    "# encoding=utf-8\n",
    "# Programmer: 黃駿瑜\n",
    "# Date: 2020/04/07\n",
    "# Python 畢氏定理\n",
    "\n",
    "print(\"輸入三角形兩邊長: \")\n",
    "\n",
    "# 輸入兩邊長\n",
    "a = float(input('邊長a = '))    \n",
    "b = float(input('邊長b = '))\n",
    "\n",
    "# 計算兩邊平方和的平方根，並印出\n",
    "print(sqrt(a**2 + b**2))    # 斜邊長"
   ]
  },
  {
   "cell_type": "code",
   "execution_count": 25,
   "metadata": {},
   "outputs": [
    {
     "name": "stdout",
     "output_type": "stream",
     "text": [
      "身高 = 175\n",
      "體重 = 61\n",
      "19.918367346938776\n"
     ]
    }
   ],
   "source": [
    "# encoding=utf-8\n",
    "# Programmer: 黃駿瑜\n",
    "# Date: 2020/04/07\n",
    "# Python BMI\n",
    "\n",
    "from math import *\n",
    "\n",
    "# 輸入身高體重\n",
    "h = float(input('身高 = '))    \n",
    "w = float(input('體重 = '))\n",
    "\n",
    "h /= 100\n",
    "# \n",
    "print(w/(h*h))"
   ]
  },
  {
   "cell_type": "code",
   "execution_count": 27,
   "metadata": {},
   "outputs": [
    {
     "name": "stdout",
     "output_type": "stream",
     "text": [
      "89.6\n",
      "32.0\n"
     ]
    }
   ],
   "source": [
    "# encoding=utf-8\n",
    "# Programmer: 黃駿瑜\n",
    "# Date: 2020/04/07\n",
    "# Python 攝氏、華氏溫度轉換\n",
    "\n",
    "C = 32.0    # 攝氏溫度\n",
    "F = 89.6    # 華氏溫度\n",
    "\n",
    "print((C * 1.8)+32)    # 攝氏溫度轉華氏溫度\n",
    "print((F - 32)*5/9)    # 華氏溫度轉攝氏溫度 "
   ]
  },
  {
   "cell_type": "code",
   "execution_count": 31,
   "metadata": {},
   "outputs": [
    {
     "ename": "RemoteDataError",
     "evalue": "No data fetched using 'YahooDailyReader'",
     "output_type": "error",
     "traceback": [
      "\u001b[1;31m---------------------------------------------------------------------------\u001b[0m",
      "\u001b[1;31mRemoteDataError\u001b[0m                           Traceback (most recent call last)",
      "\u001b[1;32m<ipython-input-31-37ffbe1cd1a4>\u001b[0m in \u001b[0;36m<module>\u001b[1;34m\u001b[0m\n\u001b[0;32m     17\u001b[0m \u001b[1;33m\u001b[0m\u001b[0m\n\u001b[0;32m     18\u001b[0m \u001b[1;31m# 由 Yahoo 網站取得股價資訊, 存入 CSV 檔案\u001b[0m\u001b[1;33m\u001b[0m\u001b[1;33m\u001b[0m\u001b[1;33m\u001b[0m\u001b[0m\n\u001b[1;32m---> 19\u001b[1;33m \u001b[0mdf\u001b[0m \u001b[1;33m=\u001b[0m \u001b[0mweb\u001b[0m\u001b[1;33m.\u001b[0m\u001b[0mget_data_yahoo\u001b[0m\u001b[1;33m(\u001b[0m\u001b[1;33m[\u001b[0m\u001b[0mstr\u001b[0m\u001b[1;33m(\u001b[0m\u001b[0mstock\u001b[0m\u001b[1;33m)\u001b[0m \u001b[1;33m+\u001b[0m \u001b[1;34m'.TW'\u001b[0m\u001b[1;33m]\u001b[0m\u001b[1;33m,\u001b[0m \u001b[0mstart\u001b[0m\u001b[1;33m,\u001b[0m \u001b[0mend\u001b[0m\u001b[1;33m)\u001b[0m \u001b[1;31m# 下載股價資料\u001b[0m\u001b[1;33m\u001b[0m\u001b[1;33m\u001b[0m\u001b[0m\n\u001b[0m\u001b[0;32m     20\u001b[0m \u001b[0mprint\u001b[0m\u001b[1;33m(\u001b[0m\u001b[1;34m\"下載股價資料(筆數, 欄位): \"\u001b[0m\u001b[1;33m,\u001b[0m \u001b[0mdf\u001b[0m\u001b[1;33m.\u001b[0m\u001b[0mshape\u001b[0m\u001b[1;33m)\u001b[0m\u001b[1;33m\u001b[0m\u001b[1;33m\u001b[0m\u001b[0m\n\u001b[0;32m     21\u001b[0m \u001b[0mdf\u001b[0m\u001b[1;33m.\u001b[0m\u001b[0mto_csv\u001b[0m\u001b[1;33m(\u001b[0m\u001b[0mAnalysis\u001b[0m\u001b[1;33m,\u001b[0m \u001b[0mheader\u001b[0m\u001b[1;33m=\u001b[0m\u001b[1;32mTrue\u001b[0m\u001b[1;33m)\u001b[0m\u001b[1;33m\u001b[0m\u001b[1;33m\u001b[0m\u001b[0m\n",
      "\u001b[1;32m~\\Anaconda3\\lib\\site-packages\\pandas_datareader\\data.py\u001b[0m in \u001b[0;36mget_data_yahoo\u001b[1;34m(*args, **kwargs)\u001b[0m\n\u001b[0;32m     80\u001b[0m \u001b[1;33m\u001b[0m\u001b[0m\n\u001b[0;32m     81\u001b[0m \u001b[1;32mdef\u001b[0m \u001b[0mget_data_yahoo\u001b[0m\u001b[1;33m(\u001b[0m\u001b[1;33m*\u001b[0m\u001b[0margs\u001b[0m\u001b[1;33m,\u001b[0m \u001b[1;33m**\u001b[0m\u001b[0mkwargs\u001b[0m\u001b[1;33m)\u001b[0m\u001b[1;33m:\u001b[0m\u001b[1;33m\u001b[0m\u001b[1;33m\u001b[0m\u001b[0m\n\u001b[1;32m---> 82\u001b[1;33m     \u001b[1;32mreturn\u001b[0m \u001b[0mYahooDailyReader\u001b[0m\u001b[1;33m(\u001b[0m\u001b[1;33m*\u001b[0m\u001b[0margs\u001b[0m\u001b[1;33m,\u001b[0m \u001b[1;33m**\u001b[0m\u001b[0mkwargs\u001b[0m\u001b[1;33m)\u001b[0m\u001b[1;33m.\u001b[0m\u001b[0mread\u001b[0m\u001b[1;33m(\u001b[0m\u001b[1;33m)\u001b[0m\u001b[1;33m\u001b[0m\u001b[1;33m\u001b[0m\u001b[0m\n\u001b[0m\u001b[0;32m     83\u001b[0m \u001b[1;33m\u001b[0m\u001b[0m\n\u001b[0;32m     84\u001b[0m \u001b[1;33m\u001b[0m\u001b[0m\n",
      "\u001b[1;32m~\\Anaconda3\\lib\\site-packages\\pandas_datareader\\base.py\u001b[0m in \u001b[0;36mread\u001b[1;34m(self)\u001b[0m\n\u001b[0;32m    254\u001b[0m             \u001b[0mdf\u001b[0m \u001b[1;33m=\u001b[0m \u001b[0mself\u001b[0m\u001b[1;33m.\u001b[0m\u001b[0m_dl_mult_symbols\u001b[0m\u001b[1;33m(\u001b[0m\u001b[0mself\u001b[0m\u001b[1;33m.\u001b[0m\u001b[0msymbols\u001b[0m\u001b[1;33m.\u001b[0m\u001b[0mindex\u001b[0m\u001b[1;33m)\u001b[0m\u001b[1;33m\u001b[0m\u001b[1;33m\u001b[0m\u001b[0m\n\u001b[0;32m    255\u001b[0m         \u001b[1;32melse\u001b[0m\u001b[1;33m:\u001b[0m\u001b[1;33m\u001b[0m\u001b[1;33m\u001b[0m\u001b[0m\n\u001b[1;32m--> 256\u001b[1;33m             \u001b[0mdf\u001b[0m \u001b[1;33m=\u001b[0m \u001b[0mself\u001b[0m\u001b[1;33m.\u001b[0m\u001b[0m_dl_mult_symbols\u001b[0m\u001b[1;33m(\u001b[0m\u001b[0mself\u001b[0m\u001b[1;33m.\u001b[0m\u001b[0msymbols\u001b[0m\u001b[1;33m)\u001b[0m\u001b[1;33m\u001b[0m\u001b[1;33m\u001b[0m\u001b[0m\n\u001b[0m\u001b[0;32m    257\u001b[0m         \u001b[1;32mreturn\u001b[0m \u001b[0mdf\u001b[0m\u001b[1;33m\u001b[0m\u001b[1;33m\u001b[0m\u001b[0m\n\u001b[0;32m    258\u001b[0m \u001b[1;33m\u001b[0m\u001b[0m\n",
      "\u001b[1;32m~\\Anaconda3\\lib\\site-packages\\pandas_datareader\\base.py\u001b[0m in \u001b[0;36m_dl_mult_symbols\u001b[1;34m(self, symbols)\u001b[0m\n\u001b[0;32m    273\u001b[0m         \u001b[1;32mif\u001b[0m \u001b[0mlen\u001b[0m\u001b[1;33m(\u001b[0m\u001b[0mpassed\u001b[0m\u001b[1;33m)\u001b[0m \u001b[1;33m==\u001b[0m \u001b[1;36m0\u001b[0m\u001b[1;33m:\u001b[0m\u001b[1;33m\u001b[0m\u001b[1;33m\u001b[0m\u001b[0m\n\u001b[0;32m    274\u001b[0m             \u001b[0mmsg\u001b[0m \u001b[1;33m=\u001b[0m \u001b[1;34m\"No data fetched using {0!r}\"\u001b[0m\u001b[1;33m\u001b[0m\u001b[1;33m\u001b[0m\u001b[0m\n\u001b[1;32m--> 275\u001b[1;33m             \u001b[1;32mraise\u001b[0m \u001b[0mRemoteDataError\u001b[0m\u001b[1;33m(\u001b[0m\u001b[0mmsg\u001b[0m\u001b[1;33m.\u001b[0m\u001b[0mformat\u001b[0m\u001b[1;33m(\u001b[0m\u001b[0mself\u001b[0m\u001b[1;33m.\u001b[0m\u001b[0m__class__\u001b[0m\u001b[1;33m.\u001b[0m\u001b[0m__name__\u001b[0m\u001b[1;33m)\u001b[0m\u001b[1;33m)\u001b[0m\u001b[1;33m\u001b[0m\u001b[1;33m\u001b[0m\u001b[0m\n\u001b[0m\u001b[0;32m    276\u001b[0m         \u001b[1;32mtry\u001b[0m\u001b[1;33m:\u001b[0m\u001b[1;33m\u001b[0m\u001b[1;33m\u001b[0m\u001b[0m\n\u001b[0;32m    277\u001b[0m             \u001b[1;32mif\u001b[0m \u001b[0mlen\u001b[0m\u001b[1;33m(\u001b[0m\u001b[0mstocks\u001b[0m\u001b[1;33m)\u001b[0m \u001b[1;33m>\u001b[0m \u001b[1;36m0\u001b[0m \u001b[1;32mand\u001b[0m \u001b[0mlen\u001b[0m\u001b[1;33m(\u001b[0m\u001b[0mfailed\u001b[0m\u001b[1;33m)\u001b[0m \u001b[1;33m>\u001b[0m \u001b[1;36m0\u001b[0m \u001b[1;32mand\u001b[0m \u001b[0mlen\u001b[0m\u001b[1;33m(\u001b[0m\u001b[0mpassed\u001b[0m\u001b[1;33m)\u001b[0m \u001b[1;33m>\u001b[0m \u001b[1;36m0\u001b[0m\u001b[1;33m:\u001b[0m\u001b[1;33m\u001b[0m\u001b[1;33m\u001b[0m\u001b[0m\n",
      "\u001b[1;31mRemoteDataError\u001b[0m: No data fetched using 'YahooDailyReader'"
     ]
    }
   ],
   "source": [
    "# encoding=utf-8\n",
    "# Programmer: 黃駿瑜\n",
    "# Date: 2020/04/07\n",
    "# Python PBL\n",
    "\n",
    "from pandas_datareader import data as web\n",
    "import datetime as dt\n",
    "import pandas as pd\n",
    "import numpy as np\n",
    "import matplotlib.pyplot as plt\n",
    "\n",
    "# 欲讀取股價資訊設定\n",
    "stock = 2319                    #股票代號(ticker) 2317 鴻海\n",
    "Analysis = 'stock2317.csv'      # 股價儲存檔名\n",
    "start = dt.datetime(2020, 1, 1) # 股價開始日期\n",
    "end = dt.datetime(2020, 3, 11)   # 股價結束日期\n",
    "\n",
    "# 由 Yahoo 網站取得股價資訊, 存入 CSV 檔案\n",
    "df = web.get_data_yahoo([str(stock) + '.TW'], start, end) # 下載股價資料\n",
    "print(\"下載股價資料(筆數, 欄位): \", df.shape)\n",
    "df.to_csv(Analysis, header=True) \n",
    "print(\"下載股價資料已存至\", Analysis, \"檔案\") \n",
    "\n"
   ]
  },
  {
   "cell_type": "code",
   "execution_count": null,
   "metadata": {},
   "outputs": [],
   "source": []
  }
 ],
 "metadata": {
  "kernelspec": {
   "display_name": "Python 3",
   "language": "python",
   "name": "python3"
  },
  "language_info": {
   "codemirror_mode": {
    "name": "ipython",
    "version": 3
   },
   "file_extension": ".py",
   "mimetype": "text/x-python",
   "name": "python",
   "nbconvert_exporter": "python",
   "pygments_lexer": "ipython3",
   "version": "3.7.4"
  }
 },
 "nbformat": 4,
 "nbformat_minor": 2
}
